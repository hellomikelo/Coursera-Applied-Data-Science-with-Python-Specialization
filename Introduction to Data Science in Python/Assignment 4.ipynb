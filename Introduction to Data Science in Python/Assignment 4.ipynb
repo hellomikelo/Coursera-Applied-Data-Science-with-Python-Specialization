{
 "cells": [
  {
   "cell_type": "markdown",
   "metadata": {},
   "source": [
    "---\n",
    "\n",
    "_You are currently looking at **version 1.1** of this notebook. To download notebooks and datafiles, as well as get help on Jupyter notebooks in the Coursera platform, visit the [Jupyter Notebook FAQ](https://www.coursera.org/learn/python-data-analysis/resources/0dhYG) course resource._\n",
    "\n",
    "---"
   ]
  },
  {
   "cell_type": "code",
   "execution_count": 2,
   "metadata": {
    "collapsed": true
   },
   "outputs": [],
   "source": [
    "import pandas as pd\n",
    "import numpy as np\n",
    "from scipy.stats import ttest_ind\n",
    "import re"
   ]
  },
  {
   "cell_type": "markdown",
   "metadata": {},
   "source": [
    "# Assignment 4 - Hypothesis Testing\n",
    "This assignment requires more individual learning than previous assignments - you are encouraged to check out the [pandas documentation](http://pandas.pydata.org/pandas-docs/stable/) to find functions or methods you might not have used yet, or ask questions on [Stack Overflow](http://stackoverflow.com/) and tag them as pandas and python related. And of course, the discussion forums are open for interaction with your peers and the course staff.\n",
    "\n",
    "Definitions:\n",
    "* A _quarter_ is a specific three month period, Q1 is January through March, Q2 is April through June, Q3 is July through September, Q4 is October through December.\n",
    "* A _recession_ is defined as starting with two consecutive quarters of GDP decline, and ending with two consecutive quarters of GDP growth.\n",
    "* A _recession bottom_ is the quarter within a recession which had the lowest GDP.\n",
    "* A _university town_ is a city which has a high percentage of university students compared to the total population of the city.\n",
    "\n",
    "**Hypothesis**: University towns have their mean housing prices less effected by recessions. Run a t-test to compare the ratio of the mean price of houses in university towns the quarter before the recession starts compared to the recession bottom. (`price_ratio=quarter_before_recession/recession_bottom`)\n",
    "\n",
    "The following data files are available for this assignment:\n",
    "* From the [Zillow research data site](http://www.zillow.com/research/data/) there is housing data for the United States. In particular the datafile for [all homes at a city level](http://files.zillowstatic.com/research/public/City/City_Zhvi_AllHomes.csv), ```City_Zhvi_AllHomes.csv```, has median home sale prices at a fine grained level.\n",
    "* From the Wikipedia page on college towns is a list of [university towns in the United States](https://en.wikipedia.org/wiki/List_of_college_towns#College_towns_in_the_United_States) which has been copy and pasted into the file ```university_towns.txt```.\n",
    "* From Bureau of Economic Analysis, US Department of Commerce, the [GDP over time](http://www.bea.gov/national/index.htm#gdp) of the United States in current dollars (use the chained value in 2009 dollars), in quarterly intervals, in the file ```gdplev.xls```. For this assignment, only look at GDP data from the first quarter of 2000 onward.\n",
    "\n",
    "Each function in this assignment below is worth 10%, with the exception of ```run_ttest()```, which is worth 50%."
   ]
  },
  {
   "cell_type": "code",
   "execution_count": 3,
   "metadata": {
    "collapsed": false
   },
   "outputs": [],
   "source": [
    "# Use this dictionary to map state names to two letter acronyms\n",
    "states = {'OH': 'Ohio', 'KY': 'Kentucky', 'AS': 'American Samoa', 'NV': 'Nevada', 'WY': 'Wyoming', 'NA': 'National', 'AL': 'Alabama', 'MD': 'Maryland', 'AK': 'Alaska', 'UT': 'Utah', 'OR': 'Oregon', 'MT': 'Montana', 'IL': 'Illinois', 'TN': 'Tennessee', 'DC': 'District of Columbia', 'VT': 'Vermont', 'ID': 'Idaho', 'AR': 'Arkansas', 'ME': 'Maine', 'WA': 'Washington', 'HI': 'Hawaii', 'WI': 'Wisconsin', 'MI': 'Michigan', 'IN': 'Indiana', 'NJ': 'New Jersey', 'AZ': 'Arizona', 'GU': 'Guam', 'MS': 'Mississippi', 'PR': 'Puerto Rico', 'NC': 'North Carolina', 'TX': 'Texas', 'SD': 'South Dakota', 'MP': 'Northern Mariana Islands', 'IA': 'Iowa', 'MO': 'Missouri', 'CT': 'Connecticut', 'WV': 'West Virginia', 'SC': 'South Carolina', 'LA': 'Louisiana', 'KS': 'Kansas', 'NY': 'New York', 'NE': 'Nebraska', 'OK': 'Oklahoma', 'FL': 'Florida', 'CA': 'California', 'CO': 'Colorado', 'PA': 'Pennsylvania', 'DE': 'Delaware', 'NM': 'New Mexico', 'RI': 'Rhode Island', 'MN': 'Minnesota', 'VI': 'Virgin Islands', 'NH': 'New Hampshire', 'MA': 'Massachusetts', 'GA': 'Georgia', 'ND': 'North Dakota', 'VA': 'Virginia'}"
   ]
  },
  {
   "cell_type": "code",
   "execution_count": 66,
   "metadata": {
    "collapsed": false
   },
   "outputs": [
    {
     "data": {
      "text/html": [
       "<div>\n",
       "<style>\n",
       "    .dataframe thead tr:only-child th {\n",
       "        text-align: right;\n",
       "    }\n",
       "\n",
       "    .dataframe thead th {\n",
       "        text-align: left;\n",
       "    }\n",
       "\n",
       "    .dataframe tbody tr th {\n",
       "        vertical-align: top;\n",
       "    }\n",
       "</style>\n",
       "<table border=\"1\" class=\"dataframe\">\n",
       "  <thead>\n",
       "    <tr style=\"text-align: right;\">\n",
       "      <th></th>\n",
       "      <th>State</th>\n",
       "      <th>RegionName</th>\n",
       "    </tr>\n",
       "  </thead>\n",
       "  <tbody>\n",
       "    <tr>\n",
       "      <th>0</th>\n",
       "      <td>Alabama</td>\n",
       "      <td>Auburn</td>\n",
       "    </tr>\n",
       "    <tr>\n",
       "      <th>1</th>\n",
       "      <td>Alabama</td>\n",
       "      <td>Florence</td>\n",
       "    </tr>\n",
       "    <tr>\n",
       "      <th>2</th>\n",
       "      <td>Alabama</td>\n",
       "      <td>Jacksonville</td>\n",
       "    </tr>\n",
       "    <tr>\n",
       "      <th>3</th>\n",
       "      <td>Alabama</td>\n",
       "      <td>Livingston</td>\n",
       "    </tr>\n",
       "    <tr>\n",
       "      <th>4</th>\n",
       "      <td>Alabama</td>\n",
       "      <td>Montevallo</td>\n",
       "    </tr>\n",
       "  </tbody>\n",
       "</table>\n",
       "</div>"
      ],
      "text/plain": [
       "     State    RegionName\n",
       "0  Alabama        Auburn\n",
       "1  Alabama      Florence\n",
       "2  Alabama  Jacksonville\n",
       "3  Alabama    Livingston\n",
       "4  Alabama    Montevallo"
      ]
     },
     "execution_count": 66,
     "metadata": {},
     "output_type": "execute_result"
    }
   ],
   "source": [
    "def get_list_of_university_towns():\n",
    "    '''Returns a DataFrame of towns and the states they are in from the \n",
    "    university_towns.txt list. The format of the DataFrame should be:\n",
    "    DataFrame( [ [\"Michigan\", \"Ann Arbor\"], [\"Michigan\", \"Yipsilanti\"] ], \n",
    "    columns=[\"State\", \"RegionName\"]  )\n",
    "    \n",
    "    The following cleaning needs to be done:\n",
    "\n",
    "    1. For \"State\", removing characters from \"[\" to the end.\n",
    "    2. For \"RegionName\", when applicable, removing every character from \" (\" to the end.\n",
    "    3. Depending on how you read the data, you may need to remove newline character '\\n'. '''\n",
    "    \n",
    "    import re\n",
    "\n",
    "    textfile = open('university_towns.txt', 'r')\n",
    "    df = []    \n",
    "\n",
    "    for row in textfile:\n",
    "        rowText = row\n",
    "    #     print(rowText)\n",
    "        if 'edit' in rowText:\n",
    "            stateName = re.sub('\\[.*\\]\\n', '', rowText).strip()\n",
    "        else:\n",
    "            townName = re.sub('\\n', ' ', rowText)    \n",
    "            townName = re.sub('\\(.*\\]', '', townName)\n",
    "            townName = re.sub('\\(.*\\)', '', townName).strip()          \n",
    "            df.append({'State' : stateName, 'RegionName' : townName})    \n",
    "            \n",
    "    df = pd.DataFrame(df, columns = ['State', 'RegionName'])\n",
    "#     df = pd.DataFrame(df)\n",
    "#     df.reset_index(inplace=True)\n",
    "#     df.set_index(['State', 'RegionName'], inplace=True)\n",
    "#     df.drop(labels='index', axis=1, inplace=True)\n",
    "    return df\n",
    "\n",
    "get_list_of_university_towns().head()\n",
    "# get_list_of_university_towns().RegionName\n",
    "\n"
   ]
  },
  {
   "cell_type": "code",
   "execution_count": 18,
   "metadata": {
    "collapsed": false
   },
   "outputs": [
    {
     "data": {
      "text/plain": [
       "'2008q3'"
      ]
     },
     "execution_count": 18,
     "metadata": {},
     "output_type": "execute_result"
    }
   ],
   "source": [
    "def get_recession_start():\n",
    "    '''Returns the year and quarter of the recession start time as a \n",
    "    string value in a format such as 2005q3'''\n",
    "    gdp = pd.read_excel('gdplev.xls', header=5, index_col=4)\n",
    "    gdp = gdp.loc[gdp.index > '1999q4', :]\n",
    "    \n",
    "    # throw out columns we don't need\n",
    "    gdp.drop(['GDP in billions of current dollars', \n",
    "              'GDP in billions of chained 2009 dollars',\n",
    "             'Unnamed: 2',\n",
    "             'Unnamed: 3',\n",
    "             'Unnamed: 6'], axis=1, inplace=True)\n",
    "    gdp.columns = ['GDP_current', 'GDP_2009']\n",
    "    \n",
    "    # if difference is <0, then next quarter is higher than previous quarter (i.e. no sign of recession)\n",
    "    gdp['Diff'] = gdp['GDP_current'] - gdp['GDP_current'].shift(-1)\n",
    "    # flag where GDP DECREASES in consecutive year as 1\n",
    "    gdp['Flag'] = (gdp['Diff'] > 0).astype(int)\n",
    "#     gdp['Flag2'] = gdp['Flag'] + gdp['Flag'].shift(2)\n",
    "    \n",
    "    gdp['Flag2'] = ((gdp['Flag'] == 1) & \n",
    "                    (gdp['Flag'].shift(-1) == 1) &\n",
    "                   gdp['Flag'].shift(-2) == 1).astype(int)\n",
    "    \n",
    "    recession_start = gdp.index[gdp['Flag2'] == 1][0]\n",
    "    return recession_start\n",
    "\n",
    "get_recession_start()"
   ]
  },
  {
   "cell_type": "code",
   "execution_count": 72,
   "metadata": {
    "collapsed": false
   },
   "outputs": [
    {
     "data": {
      "text/plain": [
       "'2009q4'"
      ]
     },
     "execution_count": 72,
     "metadata": {},
     "output_type": "execute_result"
    }
   ],
   "source": [
    "def get_recession_end():\n",
    "    '''Returns the year and quarter of the recession end time as a \n",
    "    string value in a format such as 2005q3'''\n",
    "    \n",
    "    recession_start = get_recession_start()\n",
    "    \n",
    "    gdp = pd.read_excel('gdplev.xls', header=5, index_col=4)\n",
    "    gdp = gdp.loc[gdp.index > recession_start, :]\n",
    "    \n",
    "    # throw out columns we don't need\n",
    "    gdp.drop(['GDP in billions of current dollars', \n",
    "              'GDP in billions of chained 2009 dollars',\n",
    "             'Unnamed: 2',\n",
    "             'Unnamed: 3',\n",
    "             'Unnamed: 6'], axis=1, inplace=True)\n",
    "    gdp.columns = ['GDP_current', 'GDP_2009']\n",
    "    \n",
    "    # if difference is <0, then next quarter is higher than previous quarter (i.e. no sign of recession)\n",
    "    gdp['Diff'] = gdp['GDP_current'] - gdp['GDP_current'].shift(-1)\n",
    "    \n",
    "    # flag where GDP INCREASES in consecutive year as 1\n",
    "    gdp['Flag'] = (gdp['Diff'] < 0).astype(int)\n",
    "    gdp['Flag2'] = ((gdp['Flag'] == 1) & \n",
    "                    (gdp['Flag'].shift(1) == 1) &\n",
    "                   gdp['Flag'].shift(2) == 1).astype(int)\n",
    "    \n",
    "    recession_end = gdp.index[gdp['Flag2'] == 1][0]\n",
    "    return recession_end\n",
    "\n",
    "get_recession_end()"
   ]
  },
  {
   "cell_type": "code",
   "execution_count": 73,
   "metadata": {
    "collapsed": false
   },
   "outputs": [
    {
     "data": {
      "text/plain": [
       "'2009q2'"
      ]
     },
     "execution_count": 73,
     "metadata": {},
     "output_type": "execute_result"
    }
   ],
   "source": [
    "def get_recession_bottom():\n",
    "    '''Returns the year and quarter of the recession bottom time as a \n",
    "    string value in a format such as 2005q3'''\n",
    "    recession_start = get_recession_start()\n",
    "    recession_end = get_recession_end()\n",
    "    \n",
    "    gdp = pd.read_excel('gdplev.xls', header=5, index_col=4)\n",
    "    gdp = gdp.loc[gdp.index > recession_start, :]\n",
    "    gdp = gdp.loc[gdp.index < recession_end, :]\n",
    "    \n",
    "    # throw out columns we don't need\n",
    "    gdp.drop(['GDP in billions of current dollars', \n",
    "              'GDP in billions of chained 2009 dollars',\n",
    "             'Unnamed: 2',\n",
    "             'Unnamed: 3',\n",
    "             'Unnamed: 6'], axis=1, inplace=True)\n",
    "    gdp.columns = ['GDP_current', 'GDP_2009']   \n",
    "    \n",
    "    recession_bottom = gdp.index[gdp['GDP_current'] == gdp['GDP_current'].min()][0]\n",
    "    \n",
    "    return recession_bottom\n",
    "\n",
    "get_recession_bottom()"
   ]
  },
  {
   "cell_type": "code",
   "execution_count": 19,
   "metadata": {
    "collapsed": false
   },
   "outputs": [
    {
     "data": {
      "text/plain": [
       "Index(['Adamsville', 'Alabaster', 'Albertville', 'Arab', 'Ardmore', 'Axis',\n",
       "       'Baileyton', 'Bay Minette', 'Bayou La Batre', 'Bessemer',\n",
       "       ...\n",
       "       'Wolf River', 'Woodruff', 'Woodville', 'Yorkville', 'Bar Nunn', 'Burns',\n",
       "       'Casper', 'Cheyenne', 'Evansville', 'Pine Bluffs'],\n",
       "      dtype='object', name='RegionName', length=10730)"
      ]
     },
     "execution_count": 19,
     "metadata": {},
     "output_type": "execute_result"
    }
   ],
   "source": [
    "def convert_housing_data_to_quarters():\n",
    "    import numbers\n",
    "    \n",
    "    '''Converts the housing data to quarters and returns it as mean \n",
    "    values in a dataframe. This dataframe should be a dataframe with\n",
    "    columns for 2000q1 through 2016q3, and should have a multi-index\n",
    "    in the shape of [\"State\",\"RegionName\"].\n",
    "    \n",
    "    Note: Quarters are defined in the assignment description, they are\n",
    "    not arbitrary three month periods.\n",
    "    \n",
    "    The resulting dataframe should have 67 columns, and 10,730 rows.\n",
    "    '''\n",
    "    \n",
    "    housing = pd.read_csv('City_Zhvi_AllHomes.csv')\n",
    "    \n",
    "    # convert each month to its respective year and quarter\n",
    "    col_names = [re.sub('-(01|02|03)', 'q1', string) for string in housing.columns]\n",
    "    col_names = [re.sub('-(04|05|06)', 'q2', string) for string in col_names]\n",
    "    col_names = [re.sub('-(07|08|09)', 'q3', string) for string in col_names]\n",
    "    col_names = [re.sub('-(10|11|12)', 'q4', string) for string in col_names]\n",
    "    housing.columns = col_names\n",
    "\n",
    "    # group dataframe into multi-index columns with \"State\" and \"RegionName\" as categories\n",
    "    housing['State'] = [states[state] for state in housing['State']]    \n",
    "    housing.set_index(['State', 'RegionName'], inplace=True)\n",
    "    housing.sort_index(inplace=True)    \n",
    "\n",
    "    # find start and end indices of unwanted columns and drop\n",
    "    c1 = np.max((housing.columns == 'RegionID').nonzero())\n",
    "    c2 = np.max((housing.columns == '1999q4').nonzero())\n",
    "    housing.drop(housing.columns[range(c1,c2)], axis=1, inplace=True)    \n",
    "\n",
    "    # take the mean of all 4 quarters in each year\n",
    "    # 1st way to do this\n",
    "#     housing_data = housing.groupby(by=housing.columns, axis=1).apply(\n",
    "#         lambda g: g.mean(axis=1) if isinstance(g.iloc[0,0], numbers.Number) else g.iloc[:,0])\n",
    "\n",
    "    # 2nd way to do this\n",
    "    housing_data = housing.mean(axis=1, level=0)\n",
    "\n",
    "    return housing_data\n",
    "\n",
    "convert_housing_data_to_quarters().index.get_level_values(1)"
   ]
  },
  {
   "cell_type": "code",
   "execution_count": 101,
   "metadata": {
    "collapsed": false,
    "scrolled": false
   },
   "outputs": [
    {
     "data": {
      "text/plain": [
       "(True, 3.4411540629710297e-05, 'university town')"
      ]
     },
     "execution_count": 101,
     "metadata": {},
     "output_type": "execute_result"
    }
   ],
   "source": [
    "def run_ttest():\n",
    "    '''First creates new data showing the decline or growth of housing prices\n",
    "    between the recession start and the recession bottom. Then runs a ttest\n",
    "    comparing the university town values to the non-university towns values, \n",
    "    return whether the alternative hypothesis (that the two groups are the same)\n",
    "    is true or not as well as the p-value of the confidence. \n",
    "    \n",
    "    Return the tuple (different, p, better) where different=True if the t-test is\n",
    "    True at a p<0.01 (we reject the null hypothesis), or different=False if \n",
    "    otherwise (we cannot reject the null hypothesis). The variable p should\n",
    "    be equal to the exact p value returned from scipy.stats.ttest_ind(). The\n",
    "    value for better should be either \"university town\" or \"non-university town\"\n",
    "    depending on which has a lower mean price ratio (which is equivilent to a\n",
    "    reduced market loss).'''\n",
    "    \n",
    "    # get relevant quarters and housing data\n",
    "#     uni_towns = get_list_of_university_towns()\n",
    "    uni_towns = get_list_of_university_towns()['RegionName']\n",
    "    uni_towns = set(uni_towns)\n",
    "    recession_start = get_recession_start()\n",
    "    recession_end = get_recession_end()\n",
    "    recession_bottom = get_recession_bottom()\n",
    "    housing_data = convert_housing_data_to_quarters()\n",
    "    housing_data.reset_index(inplace=True)\n",
    "    \n",
    "    def get_quarter_before_recession():\n",
    "        start_quarter = [i for i, column_name in enumerate(housing_data.columns) if column_name == recession_start] \n",
    "        quarter_before_recession = housing_data.iloc[:, [start_quarter[0]-1]].columns.tolist()\n",
    "        return quarter_before_recession\n",
    "    quarter_before_recession = get_quarter_before_recession()\n",
    "\n",
    "    def price_ratio(row):\n",
    "        # price_ratio = quarter_before_recession / recession_bottom\n",
    "        return row[quarter_before_recession]/row[recession_bottom]    \n",
    "    housing_data['up&down'] = housing_data.apply(price_ratio, axis=1)\n",
    "    \n",
    "    def is_uni_town(row):\n",
    "        # check if the town is an university town or not\n",
    "        if row['RegionName'] in uni_towns:\n",
    "            return 1\n",
    "        else:\n",
    "            return 0\n",
    "    housing_data['is_uni'] = housing_data.apply(is_uni_town, axis=1)\n",
    "    \n",
    "    not_uni = housing_data[housing_data['is_uni']==0].loc[:,'up&down'].dropna()\n",
    "    is_uni = housing_data[housing_data['is_uni']==1].loc[:,'up&down'].dropna()\n",
    "    \n",
    "    def better():\n",
    "        if not_uni.mean() < is_uni.mean():\n",
    "            return 'non-university town' \n",
    "        else:\n",
    "            return 'university town'\n",
    "    \n",
    "    # run t-test\n",
    "    p_val = list(ttest_ind(not_uni, is_uni))[1]\n",
    "    if p_val < 0.01:\n",
    "        different = True\n",
    "    else:\n",
    "        different = False\n",
    "        \n",
    "    result = (different, p_val, better())\n",
    "        \n",
    "    return result\n",
    "\n",
    "\n",
    "run_ttest()"
   ]
  },
  {
   "cell_type": "code",
   "execution_count": null,
   "metadata": {
    "collapsed": true
   },
   "outputs": [],
   "source": []
  }
 ],
 "metadata": {
  "coursera": {
   "course_slug": "python-data-analysis",
   "graded_item_id": "Il9Fx",
   "launcher_item_id": "TeDW0",
   "part_id": "WGlun"
  },
  "kernelspec": {
   "display_name": "Python [default]",
   "language": "python",
   "name": "python3"
  },
  "language_info": {
   "codemirror_mode": {
    "name": "ipython",
    "version": 3
   },
   "file_extension": ".py",
   "mimetype": "text/x-python",
   "name": "python",
   "nbconvert_exporter": "python",
   "pygments_lexer": "ipython3",
   "version": "3.6.0"
  }
 },
 "nbformat": 4,
 "nbformat_minor": 0
}
